{
 "cells": [
  {
   "cell_type": "code",
   "execution_count": null,
   "metadata": {},
   "outputs": [],
   "source": [
    "import pandas as pd\n",
    "import matplotlib.pyplot as plt\n",
    "import glob\n",
    "import os\n",
    "\n",
    "# Путь к вашим файлам\n",
    "file_list = glob.glob(r'C:\\Users\\Asus\\Desktop\\infa\\papka\\pappka\\*.txt')  # Используйте r'' для сырой строки\n",
    "\n",
    "# Список для хранения значений и меток\n",
    "values = []\n",
    "labels = []\n",
    "\n",
    "# Чтение данных из файлов\n",
    "for file in file_list:\n",
    "    data = pd.read_csv(file, sep=' - ', header=None, names=['timestamp', 'value'])\n",
    "    values.append(data['value'].mean())  # Используем среднее значение для каждого файла\n",
    "    labels.append(os.path.basename(file).split('.')[0])  # Извлекаем имя файла без расширения\n",
    "\n",
    "# Построение точечного графика\n",
    "plt.figure(figsize=(10, 5))\n",
    "plt.scatter(labels, values, color='blue', alpha=0.7)\n",
    "\n",
    "# Настройка графика\n",
    "plt.title('sr400+диод+еще че-то')\n",
    "plt.xlabel('mV')\n",
    "plt.ylabel('Среднее значение')\n",
    "plt.xticks(rotation=45)\n",
    "plt.grid()\n",
    "plt.tight_layout()\n",
    "plt.savefig('pigraph.png', dpi=300)\n",
    "plt.show()\n"
   ]
  }
 ],
 "metadata": {
  "language_info": {
   "name": "python"
  }
 },
 "nbformat": 4,
 "nbformat_minor": 2
}
